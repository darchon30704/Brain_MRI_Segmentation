{
  "nbformat": 4,
  "nbformat_minor": 0,
  "metadata": {
    "colab": {
      "name": "Brain_MRI.ipynb",
      "provenance": [],
      "machine_shape": "hm",
      "mount_file_id": "1Vu_zNkIwj0ZWzJ_FMk6wAvR1KFNGzGdg",
      "authorship_tag": "ABX9TyNkF0QJig/4xn5joSqYkJff",
      "include_colab_link": true
    },
    "kernelspec": {
      "name": "python3",
      "display_name": "Python 3"
    },
    "language_info": {
      "name": "python"
    },
    "accelerator": "GPU"
  },
  "cells": [
    {
      "cell_type": "markdown",
      "metadata": {
        "id": "view-in-github",
        "colab_type": "text"
      },
      "source": [
        "<a href=\"https://colab.research.google.com/github/darchon30704/Brain_MRI_Segmentation/blob/main/Brain_MRI.ipynb\" target=\"_parent\"><img src=\"https://colab.research.google.com/assets/colab-badge.svg\" alt=\"Open In Colab\"/></a>"
      ]
    },
    {
      "cell_type": "code",
      "metadata": {
        "id": "xlK8FV8CGqD5"
      },
      "source": [
        "path ='/content/drive/MyDrive/Colab Notebooks/Kaggle/Brain_MRI/'"
      ],
      "execution_count": 1,
      "outputs": []
    },
    {
      "cell_type": "markdown",
      "metadata": {
        "id": "v1arCVbTU2HF"
      },
      "source": [
        "https://www.kaggle.com/mateuszbuda/brain-segmentation-pytorch"
      ]
    },
    {
      "cell_type": "code",
      "metadata": {
        "id": "45-zcmoqGzcl"
      },
      "source": [
        "import os\n",
        "import random\n",
        "\n",
        "from collections import OrderedDict\n",
        "import numpy as np\n",
        "import torch\n",
        "import torch.nn as nn\n",
        "import torch.optim as optim\n",
        "from torch.utils.data import DataLoader\n",
        "from matplotlib import pyplot as plt\n",
        "from matplotlib.backends.backend_agg import FigureCanvasAgg\n",
        "from tqdm import tqdm\n",
        "from skimage.exposure import rescale_intensity\n",
        "from skimage.io import imread, imsave\n",
        "from skimage.transform import resize, rescale, rotate\n",
        "from torch.utils.data import Dataset\n",
        "from torchvision.transforms import Compose"
      ],
      "execution_count": 2,
      "outputs": []
    },
    {
      "cell_type": "code",
      "metadata": {
        "id": "Hzu6F_tQGzhK"
      },
      "source": [
        "def crop_sample(x):\n",
        "    volume, mask = x\n",
        "    volume[volume < np.max(volume) * 0.1] = 0\n",
        "    z_projection = np.max(np.max(np.max(volume, axis=-1), axis=-1), axis=-1)\n",
        "    z_nonzero = np.nonzero(z_projection)\n",
        "    z_min = np.min(z_nonzero)\n",
        "    z_max = np.max(z_nonzero) + 1\n",
        "    y_projection = np.max(np.max(np.max(volume, axis=0), axis=-1), axis=-1)\n",
        "    y_nonzero = np.nonzero(y_projection)\n",
        "    y_min = np.min(y_nonzero)\n",
        "    y_max = np.max(y_nonzero) + 1\n",
        "    x_projection = np.max(np.max(np.max(volume, axis=0), axis=0), axis=-1)\n",
        "    x_nonzero = np.nonzero(x_projection)\n",
        "    x_min = np.min(x_nonzero)\n",
        "    x_max = np.max(x_nonzero) + 1\n",
        "    return (\n",
        "        volume[z_min:z_max, y_min:y_max, x_min:x_max],\n",
        "        mask[z_min:z_max, y_min:y_max, x_min:x_max],\n",
        "    )\n",
        "\n",
        "\n",
        "def pad_sample(x):\n",
        "    volume, mask = x\n",
        "    a = volume.shape[1]\n",
        "    b = volume.shape[2]\n",
        "    if a == b:\n",
        "        return volume, mask\n",
        "    diff = (max(a, b) - min(a, b)) / 2.0\n",
        "    if a > b:\n",
        "        padding = ((0, 0), (0, 0), (int(np.floor(diff)), int(np.ceil(diff))))\n",
        "    else:\n",
        "        padding = ((0, 0), (int(np.floor(diff)), int(np.ceil(diff))), (0, 0))\n",
        "    mask = np.pad(mask, padding, mode=\"constant\", constant_values=0)\n",
        "    padding = padding + ((0, 0),)\n",
        "    volume = np.pad(volume, padding, mode=\"constant\", constant_values=0)\n",
        "    return volume, mask\n",
        "\n",
        "\n",
        "def resize_sample(x, size=256):\n",
        "    volume, mask = x\n",
        "    v_shape = volume.shape\n",
        "    out_shape = (v_shape[0], size, size)\n",
        "    mask = resize(\n",
        "        mask,\n",
        "        output_shape=out_shape,\n",
        "        order=0,\n",
        "        mode=\"constant\",\n",
        "        cval=0,\n",
        "        anti_aliasing=False,\n",
        "    )\n",
        "    out_shape = out_shape + (v_shape[3],)\n",
        "    volume = resize(\n",
        "        volume,\n",
        "        output_shape=out_shape,\n",
        "        order=2,\n",
        "        mode=\"constant\",\n",
        "        cval=0,\n",
        "        anti_aliasing=False,\n",
        "    )\n",
        "    return volume, mask\n",
        "\n",
        "\n",
        "def normalize_volume(volume):\n",
        "    p10 = np.percentile(volume, 10)\n",
        "    p99 = np.percentile(volume, 99)\n",
        "    volume = rescale_intensity(volume, in_range=(p10, p99))\n",
        "    m = np.mean(volume, axis=(0, 1, 2))\n",
        "    s = np.std(volume, axis=(0, 1, 2))\n",
        "    volume = (volume - m) / s\n",
        "    return volume"
      ],
      "execution_count": 3,
      "outputs": []
    },
    {
      "cell_type": "code",
      "metadata": {
        "id": "b94cw03GGzkS"
      },
      "source": [
        "class BrainSegmentationDataset(Dataset):\n",
        "    \"\"\"Brain MRI dataset for FLAIR abnormality segmentation\"\"\"\n",
        "\n",
        "    in_channels = 3\n",
        "    out_channels = 1\n",
        "\n",
        "    def __init__(\n",
        "        self,\n",
        "        images_dir,\n",
        "        transform=None,\n",
        "        image_size=256,\n",
        "        subset=\"train\",\n",
        "        random_sampling=True,\n",
        "        seed=42,\n",
        "    ):\n",
        "        assert subset in [\"all\", \"train\", \"validation\"]\n",
        "\n",
        "        # read images\n",
        "        volumes = {}\n",
        "        masks = {}\n",
        "        print(\"reading {} images...\".format(subset))\n",
        "        for (dirpath, dirnames, filenames) in os.walk(images_dir):\n",
        "            image_slices = []\n",
        "            mask_slices = []\n",
        "            for filename in sorted(\n",
        "                filter(lambda f: \".tif\" in f, filenames),\n",
        "                key=lambda x: int(x.split(\".\")[-2].split(\"_\")[4]),\n",
        "            ):\n",
        "                filepath = os.path.join(dirpath, filename)\n",
        "                if \"mask\" in filename:\n",
        "                    mask_slices.append(imread(filepath, as_gray=True))\n",
        "                else:\n",
        "                    image_slices.append(imread(filepath))\n",
        "            if len(image_slices) > 0:\n",
        "                patient_id = dirpath.split(\"/\")[-1]\n",
        "                volumes[patient_id] = np.array(image_slices[1:-1])\n",
        "                masks[patient_id] = np.array(mask_slices[1:-1])\n",
        "\n",
        "        self.patients = sorted(volumes)\n",
        "\n",
        "        # select cases to subset\n",
        "        if not subset == \"all\":\n",
        "            random.seed(seed)\n",
        "            validation_patients = random.sample(self.patients, k=10)\n",
        "            if subset == \"validation\":\n",
        "                self.patients = validation_patients\n",
        "            else:\n",
        "                self.patients = sorted(\n",
        "                    list(set(self.patients).difference(validation_patients))\n",
        "                )\n",
        "\n",
        "        print(\"preprocessing {} volumes...\".format(subset))\n",
        "        # create list of tuples (volume, mask)\n",
        "        self.volumes = [(volumes[k], masks[k]) for k in self.patients]\n",
        "\n",
        "        print(\"cropping {} volumes...\".format(subset))\n",
        "        # crop to smallest enclosing volume\n",
        "        self.volumes = [crop_sample(v) for v in self.volumes]\n",
        "\n",
        "        print(\"padding {} volumes...\".format(subset))\n",
        "        # pad to square\n",
        "        self.volumes = [pad_sample(v) for v in self.volumes]\n",
        "\n",
        "        print(\"resizing {} volumes...\".format(subset))\n",
        "        # resize\n",
        "        self.volumes = [resize_sample(v, size=image_size) for v in self.volumes]\n",
        "\n",
        "        print(\"normalizing {} volumes...\".format(subset))\n",
        "        # normalize channel-wise\n",
        "        self.volumes = [(normalize_volume(v), m) for v, m in self.volumes]\n",
        "\n",
        "        # probabilities for sampling slices based on masks\n",
        "        self.slice_weights = [m.sum(axis=-1).sum(axis=-1) for v, m in self.volumes]\n",
        "        self.slice_weights = [\n",
        "            (s + (s.sum() * 0.1 / len(s))) / (s.sum() * 1.1) for s in self.slice_weights\n",
        "        ]\n",
        "\n",
        "        # add channel dimension to masks\n",
        "        self.volumes = [(v, m[..., np.newaxis]) for (v, m) in self.volumes]\n",
        "\n",
        "        print(\"done creating {} dataset\".format(subset))\n",
        "\n",
        "        # create global index for patient and slice (idx -> (p_idx, s_idx))\n",
        "        num_slices = [v.shape[0] for v, m in self.volumes]\n",
        "        self.patient_slice_index = list(\n",
        "            zip(\n",
        "                sum([[i] * num_slices[i] for i in range(len(num_slices))], []),\n",
        "                sum([list(range(x)) for x in num_slices], []),\n",
        "            )\n",
        "        )\n",
        "\n",
        "        self.random_sampling = random_sampling\n",
        "\n",
        "        self.transform = transform\n",
        "\n",
        "    def __len__(self):\n",
        "        return len(self.patient_slice_index)\n",
        "\n",
        "    def __getitem__(self, idx):\n",
        "        patient = self.patient_slice_index[idx][0]\n",
        "        slice_n = self.patient_slice_index[idx][1]\n",
        "\n",
        "        if self.random_sampling:\n",
        "            patient = np.random.randint(len(self.volumes))\n",
        "            slice_n = np.random.choice(\n",
        "                range(self.volumes[patient][0].shape[0]), p=self.slice_weights[patient]\n",
        "            )\n",
        "\n",
        "        v, m = self.volumes[patient]\n",
        "        image = v[slice_n]\n",
        "        mask = m[slice_n]\n",
        "\n",
        "        if self.transform is not None:\n",
        "            image, mask = self.transform((image, mask))\n",
        "\n",
        "        # fix dimensions (C, H, W)\n",
        "        image = image.transpose(2, 0, 1)\n",
        "        mask = mask.transpose(2, 0, 1)\n",
        "\n",
        "        image_tensor = torch.from_numpy(image.astype(np.float32))\n",
        "        mask_tensor = torch.from_numpy(mask.astype(np.float32))\n",
        "\n",
        "        # return tensors\n",
        "        return image_tensor, mask_tensor\n"
      ],
      "execution_count": 4,
      "outputs": []
    },
    {
      "cell_type": "code",
      "metadata": {
        "id": "5H-aIPO0Gzm9"
      },
      "source": [
        "def transforms(scale=None, angle=None, flip_prob=None):\n",
        "    transform_list = []\n",
        "\n",
        "    if scale is not None:\n",
        "        transform_list.append(Scale(scale))\n",
        "    if angle is not None:\n",
        "        transform_list.append(Rotate(angle))\n",
        "    if flip_prob is not None:\n",
        "        transform_list.append(HorizontalFlip(flip_prob))\n",
        "\n",
        "    return Compose(transform_list)\n",
        "\n",
        "\n",
        "class Scale(object):\n",
        "\n",
        "    def __init__(self, scale):\n",
        "        self.scale = scale\n",
        "\n",
        "    def __call__(self, sample):\n",
        "        image, mask = sample\n",
        "\n",
        "        img_size = image.shape[0]\n",
        "\n",
        "        scale = np.random.uniform(low=1.0 - self.scale, high=1.0 + self.scale)\n",
        "\n",
        "        image = rescale(\n",
        "            image,\n",
        "            (scale, scale),\n",
        "            multichannel=True,\n",
        "            preserve_range=True,\n",
        "            mode=\"constant\",\n",
        "            anti_aliasing=False,\n",
        "        )\n",
        "        mask = rescale(\n",
        "            mask,\n",
        "            (scale, scale),\n",
        "            order=0,\n",
        "            multichannel=True,\n",
        "            preserve_range=True,\n",
        "            mode=\"constant\",\n",
        "            anti_aliasing=False,\n",
        "        )\n",
        "\n",
        "        if scale < 1.0:\n",
        "            diff = (img_size - image.shape[0]) / 2.0\n",
        "            padding = ((int(np.floor(diff)), int(np.ceil(diff))),) * 2 + ((0, 0),)\n",
        "            image = np.pad(image, padding, mode=\"constant\", constant_values=0)\n",
        "            mask = np.pad(mask, padding, mode=\"constant\", constant_values=0)\n",
        "        else:\n",
        "            x_min = (image.shape[0] - img_size) // 2\n",
        "            x_max = x_min + img_size\n",
        "            image = image[x_min:x_max, x_min:x_max, ...]\n",
        "            mask = mask[x_min:x_max, x_min:x_max, ...]\n",
        "\n",
        "        return image, mask\n",
        "\n",
        "\n",
        "class Rotate(object):\n",
        "\n",
        "    def __init__(self, angle):\n",
        "        self.angle = angle\n",
        "\n",
        "    def __call__(self, sample):\n",
        "        image, mask = sample\n",
        "\n",
        "        angle = np.random.uniform(low=-self.angle, high=self.angle)\n",
        "        image = rotate(image, angle, resize=False, preserve_range=True, mode=\"constant\")\n",
        "        mask = rotate(\n",
        "            mask, angle, resize=False, order=0, preserve_range=True, mode=\"constant\"\n",
        "        )\n",
        "        return image, mask\n",
        "\n",
        "\n",
        "class HorizontalFlip(object):\n",
        "\n",
        "    def __init__(self, flip_prob):\n",
        "        self.flip_prob = flip_prob\n",
        "\n",
        "    def __call__(self, sample):\n",
        "        image, mask = sample\n",
        "\n",
        "        if np.random.rand() > self.flip_prob:\n",
        "            return image, mask\n",
        "\n",
        "        image = np.fliplr(image).copy()\n",
        "        mask = np.fliplr(mask).copy()\n",
        "\n",
        "        return image, mask"
      ],
      "execution_count": 5,
      "outputs": []
    },
    {
      "cell_type": "code",
      "metadata": {
        "id": "1K8yzqxmGzr_"
      },
      "source": [
        "class UNet(nn.Module):\n",
        "\n",
        "    def __init__(self, in_channels=3, out_channels=1, init_features=32):\n",
        "        super(UNet, self).__init__()\n",
        "\n",
        "        features = init_features\n",
        "        self.encoder1 = UNet._block(in_channels, features, name=\"enc1\")\n",
        "        self.pool1 = nn.MaxPool2d(kernel_size=2, stride=2)\n",
        "        self.encoder2 = UNet._block(features, features * 2, name=\"enc2\")\n",
        "        self.pool2 = nn.MaxPool2d(kernel_size=2, stride=2)\n",
        "        self.encoder3 = UNet._block(features * 2, features * 4, name=\"enc3\")\n",
        "        self.pool3 = nn.MaxPool2d(kernel_size=2, stride=2)\n",
        "        self.encoder4 = UNet._block(features * 4, features * 8, name=\"enc4\")\n",
        "        self.pool4 = nn.MaxPool2d(kernel_size=2, stride=2)\n",
        "\n",
        "        self.bottleneck = UNet._block(features * 8, features * 16, name=\"bottleneck\")\n",
        "\n",
        "        self.upconv4 = nn.ConvTranspose2d(\n",
        "            features * 16, features * 8, kernel_size=2, stride=2\n",
        "        )\n",
        "        self.decoder4 = UNet._block((features * 8) * 2, features * 8, name=\"dec4\")\n",
        "        self.upconv3 = nn.ConvTranspose2d(\n",
        "            features * 8, features * 4, kernel_size=2, stride=2\n",
        "        )\n",
        "        self.decoder3 = UNet._block((features * 4) * 2, features * 4, name=\"dec3\")\n",
        "        self.upconv2 = nn.ConvTranspose2d(\n",
        "            features * 4, features * 2, kernel_size=2, stride=2\n",
        "        )\n",
        "        self.decoder2 = UNet._block((features * 2) * 2, features * 2, name=\"dec2\")\n",
        "        self.upconv1 = nn.ConvTranspose2d(\n",
        "            features * 2, features, kernel_size=2, stride=2\n",
        "        )\n",
        "        self.decoder1 = UNet._block(features * 2, features, name=\"dec1\")\n",
        "\n",
        "        self.conv = nn.Conv2d(\n",
        "            in_channels=features, out_channels=out_channels, kernel_size=1\n",
        "        )\n",
        "\n",
        "    def forward(self, x):\n",
        "        enc1 = self.encoder1(x)\n",
        "        enc2 = self.encoder2(self.pool1(enc1))\n",
        "        enc3 = self.encoder3(self.pool2(enc2))\n",
        "        enc4 = self.encoder4(self.pool3(enc3))\n",
        "\n",
        "        bottleneck = self.bottleneck(self.pool4(enc4))\n",
        "\n",
        "        dec4 = self.upconv4(bottleneck)\n",
        "        dec4 = torch.cat((dec4, enc4), dim=1)\n",
        "        dec4 = self.decoder4(dec4)\n",
        "        dec3 = self.upconv3(dec4)\n",
        "        dec3 = torch.cat((dec3, enc3), dim=1)\n",
        "        dec3 = self.decoder3(dec3)\n",
        "        dec2 = self.upconv2(dec3)\n",
        "        dec2 = torch.cat((dec2, enc2), dim=1)\n",
        "        dec2 = self.decoder2(dec2)\n",
        "        dec1 = self.upconv1(dec2)\n",
        "        dec1 = torch.cat((dec1, enc1), dim=1)\n",
        "        dec1 = self.decoder1(dec1)\n",
        "        return torch.sigmoid(self.conv(dec1))\n",
        "\n",
        "    @staticmethod\n",
        "    def _block(in_channels, features, name):\n",
        "        return nn.Sequential(\n",
        "            OrderedDict(\n",
        "                [\n",
        "                    (\n",
        "                        name + \"conv1\",\n",
        "                        nn.Conv2d(\n",
        "                            in_channels=in_channels,\n",
        "                            out_channels=features,\n",
        "                            kernel_size=3,\n",
        "                            padding=1,\n",
        "                            bias=False,\n",
        "                        ),\n",
        "                    ),\n",
        "                    (name + \"norm1\", nn.BatchNorm2d(num_features=features)),\n",
        "                    (name + \"relu1\", nn.ReLU(inplace=True)),\n",
        "                    (\n",
        "                        name + \"conv2\",\n",
        "                        nn.Conv2d(\n",
        "                            in_channels=features,\n",
        "                            out_channels=features,\n",
        "                            kernel_size=3,\n",
        "                            padding=1,\n",
        "                            bias=False,\n",
        "                        ),\n",
        "                    ),\n",
        "                    (name + \"norm2\", nn.BatchNorm2d(num_features=features)),\n",
        "                    (name + \"relu2\", nn.ReLU(inplace=True)),\n",
        "                ]\n",
        "            )\n",
        "        )\n"
      ],
      "execution_count": 6,
      "outputs": []
    },
    {
      "cell_type": "code",
      "metadata": {
        "id": "eTATErblGzu3"
      },
      "source": [
        "class DiceLoss(nn.Module):\n",
        "\n",
        "    def __init__(self):\n",
        "        super(DiceLoss, self).__init__()\n",
        "        self.smooth = 1.0\n",
        "\n",
        "    def forward(self, y_pred, y_true):\n",
        "        assert y_pred.size() == y_true.size()\n",
        "        y_pred = y_pred[:, 0].contiguous().view(-1)\n",
        "        y_true = y_true[:, 0].contiguous().view(-1)\n",
        "        intersection = (y_pred * y_true).sum()\n",
        "        dsc = (2. * intersection + self.smooth) / (\n",
        "            y_pred.sum() + y_true.sum() + self.smooth\n",
        "        )\n",
        "        return 1. - dsc\n",
        "\n",
        "\n",
        "def log_images(x, y_true, y_pred, channel=1):\n",
        "    images = []\n",
        "    x_np = x[:, channel].cpu().numpy()\n",
        "    y_true_np = y_true[:, 0].cpu().numpy()\n",
        "    y_pred_np = y_pred[:, 0].cpu().numpy()\n",
        "    for i in range(x_np.shape[0]):\n",
        "        image = gray2rgb(np.squeeze(x_np[i]))\n",
        "        image = outline(image, y_pred_np[i], color=[255, 0, 0])\n",
        "        image = outline(image, y_true_np[i], color=[0, 255, 0])\n",
        "        images.append(image)\n",
        "    return images\n",
        "\n",
        "\n",
        "def gray2rgb(image):\n",
        "    w, h = image.shape\n",
        "    image += np.abs(np.min(image))\n",
        "    image_max = np.abs(np.max(image))\n",
        "    if image_max > 0:\n",
        "        image /= image_max\n",
        "    ret = np.empty((w, h, 3), dtype=np.uint8)\n",
        "    ret[:, :, 2] = ret[:, :, 1] = ret[:, :, 0] = image * 255\n",
        "    return ret\n",
        "\n",
        "\n",
        "def outline(image, mask, color):\n",
        "    mask = np.round(mask)\n",
        "    yy, xx = np.nonzero(mask)\n",
        "    for y, x in zip(yy, xx):\n",
        "        if 0.0 < np.mean(mask[max(0, y - 1) : y + 2, max(0, x - 1) : x + 2]) < 1.0:\n",
        "            image[max(0, y) : y + 1, max(0, x) : x + 1] = color\n",
        "    return image"
      ],
      "execution_count": 7,
      "outputs": []
    },
    {
      "cell_type": "code",
      "metadata": {
        "id": "ag96Gxc2HCdP"
      },
      "source": [
        "def data_loaders(batch_size, workers, image_size, aug_scale, aug_angle):\n",
        "    dataset_train, dataset_valid = datasets(path+\"/kaggle_3m\", image_size, aug_scale, aug_angle)\n",
        "\n",
        "    def worker_init(worker_id):\n",
        "        np.random.seed(42 + worker_id)\n",
        "\n",
        "    loader_train = DataLoader(\n",
        "        dataset_train,\n",
        "        batch_size=batch_size,\n",
        "        shuffle=True,\n",
        "        drop_last=True,\n",
        "        num_workers=workers,\n",
        "        worker_init_fn=worker_init,\n",
        "    )\n",
        "    loader_valid = DataLoader(\n",
        "        dataset_valid,\n",
        "        batch_size=batch_size,\n",
        "        drop_last=False,\n",
        "        num_workers=workers,\n",
        "        worker_init_fn=worker_init,\n",
        "    )\n",
        "\n",
        "    return loader_train, loader_valid\n",
        "\n",
        "\n",
        "def datasets(images, image_size, aug_scale, aug_angle):\n",
        "    train = BrainSegmentationDataset(\n",
        "        images_dir=images,\n",
        "        subset=\"train\",\n",
        "        image_size=image_size,\n",
        "        transform=transforms(scale=aug_scale, angle=aug_angle, flip_prob=0.5),\n",
        "    )\n",
        "    valid = BrainSegmentationDataset(\n",
        "        images_dir=images,\n",
        "        subset=\"validation\",\n",
        "        image_size=image_size,\n",
        "        random_sampling=False,\n",
        "    )\n",
        "    return train, valid\n",
        "\n",
        "\n",
        "def dsc(y_pred, y_true):\n",
        "    y_pred = np.round(y_pred).astype(int)\n",
        "    y_true = np.round(y_true).astype(int)\n",
        "    return np.sum(y_pred[y_true == 1]) * 2.0 / (np.sum(y_pred) + np.sum(y_true))\n",
        "\n",
        "\n",
        "def dsc_distribution(volumes):\n",
        "    dsc_dict = {}\n",
        "    for p in volumes:\n",
        "        y_pred = volumes[p][1]\n",
        "        y_true = volumes[p][2]\n",
        "        dsc_dict[p] = dsc(y_pred, y_true)\n",
        "    return dsc_dict\n",
        "\n",
        "\n",
        "def dsc_per_volume(validation_pred, validation_true, patient_slice_index):\n",
        "    dsc_list = []\n",
        "    num_slices = np.bincount([p[0] for p in patient_slice_index])\n",
        "    index = 0\n",
        "    for p in range(len(num_slices)):\n",
        "        y_pred = np.array(validation_pred[index : index + num_slices[p]])\n",
        "        y_true = np.array(validation_true[index : index + num_slices[p]])\n",
        "        dsc_list.append(dsc(y_pred, y_true))\n",
        "        index += num_slices[p]\n",
        "    return dsc_list\n",
        "\n",
        "\n",
        "def postprocess_per_volume(\n",
        "    input_list, pred_list, true_list, patient_slice_index, patients\n",
        "):\n",
        "    volumes = {}\n",
        "    num_slices = np.bincount([p[0] for p in patient_slice_index])\n",
        "    index = 0\n",
        "    for p in range(len(num_slices)):\n",
        "        volume_in = np.array(input_list[index : index + num_slices[p]])\n",
        "        volume_pred = np.round(\n",
        "            np.array(pred_list[index : index + num_slices[p]])\n",
        "        ).astype(int)\n",
        "        volume_true = np.array(true_list[index : index + num_slices[p]])\n",
        "        volumes[patients[p]] = (volume_in, volume_pred, volume_true)\n",
        "        index += num_slices[p]\n",
        "    return volumes\n",
        "\n",
        "\n",
        "def log_loss_summary(loss, step, prefix=\"\"):\n",
        "    print(\"epoch {} | {}: {}\".format(step + 1, prefix + \"loss\", np.mean(loss)))\n",
        "\n",
        "def log_scalar_summary(tag, value, step):\n",
        "    print(\"epoch {} | {}: {}\".format(step + 1, tag, value))\n",
        "\n",
        "\n",
        "def plot_dsc(dsc_dist):\n",
        "    y_positions = np.arange(len(dsc_dist))\n",
        "    dsc_dist = sorted(dsc_dist.items(), key=lambda x: x[1])\n",
        "    values = [x[1] for x in dsc_dist]\n",
        "    labels = [x[0] for x in dsc_dist]\n",
        "    labels = [\"_\".join(l.split(\"_\")[1:-1]) for l in labels]\n",
        "    fig = plt.figure(figsize=(12, 8))\n",
        "    canvas = FigureCanvasAgg(fig)\n",
        "    plt.barh(y_positions, values, align=\"center\", color=\"skyblue\")\n",
        "    plt.yticks(y_positions, labels)\n",
        "    plt.xticks(np.arange(0.0, 1.0, 0.1))\n",
        "    plt.xlim([0.0, 1.0])\n",
        "    plt.gca().axvline(np.mean(values), color=\"tomato\", linewidth=2)\n",
        "    plt.gca().axvline(np.median(values), color=\"forestgreen\", linewidth=2)\n",
        "    plt.xlabel(\"Dice coefficient\", fontsize=\"x-large\")\n",
        "    plt.gca().xaxis.grid(color=\"silver\", alpha=0.5, linestyle=\"--\", linewidth=1)\n",
        "    plt.tight_layout()\n",
        "    canvas.draw()\n",
        "    plt.close()\n",
        "    s, (width, height) = canvas.print_to_buffer()\n",
        "    return np.fromstring(s, np.uint8).reshape((height, width, 4))\n"
      ],
      "execution_count": 9,
      "outputs": []
    },
    {
      "cell_type": "code",
      "metadata": {
        "colab": {
          "base_uri": "https://localhost:8080/"
        },
        "id": "X849Lq8aHCgT",
        "outputId": "3800aa5d-bf8a-4fc2-8d0e-834e9c10a077"
      },
      "source": [
        "batch_size = 8\n",
        "epochs = 50\n",
        "lr = 0.0001\n",
        "workers = 4\n",
        "weights = \"./\"\n",
        "image_size = 224\n",
        "aug_scale = 0.05\n",
        "aug_angle = 15\n",
        "\n",
        "\n",
        "def train_validate():\n",
        "    device = torch.device(\"cpu\" if not torch.cuda.is_available() else \"cuda\")\n",
        "    \n",
        "    loader_train, loader_valid = data_loaders(batch_size, workers, image_size, aug_scale, aug_angle)\n",
        "    loaders = {\"train\": loader_train, \"valid\": loader_valid}\n",
        "    \n",
        "    unet = UNet(in_channels=BrainSegmentationDataset.in_channels, out_channels=BrainSegmentationDataset.out_channels)\n",
        "    unet.to(device)\n",
        "    \n",
        "    dsc_loss = DiceLoss()\n",
        "    best_validation_dsc = 0.0\n",
        "    \n",
        "    optimizer = optim.Adam(unet.parameters(), lr=lr)\n",
        "    \n",
        "    loss_train = []\n",
        "    loss_valid = []\n",
        "    \n",
        "    step = 0\n",
        "    \n",
        "    for epoch in range(epochs):\n",
        "        for phase in [\"train\", \"valid\"]:\n",
        "            if phase == \"train\":\n",
        "                unet.train()\n",
        "            else:\n",
        "                unet.eval()\n",
        "    \n",
        "            validation_pred = []\n",
        "            validation_true = []\n",
        "    \n",
        "            for i, data in enumerate(tqdm(loaders[phase])):\n",
        "                if phase == \"train\":\n",
        "                    step += 1\n",
        "    \n",
        "                x, y_true = data\n",
        "                x, y_true = x.to(device), y_true.to(device)\n",
        "    \n",
        "                optimizer.zero_grad()\n",
        "    \n",
        "                with torch.set_grad_enabled(phase == \"train\"):\n",
        "                    y_pred = unet(x)\n",
        "    \n",
        "                    loss = dsc_loss(y_pred, y_true)\n",
        "    \n",
        "                    if phase == \"valid\":\n",
        "                        loss_valid.append(loss.item())\n",
        "                        y_pred_np = y_pred.detach().cpu().numpy()\n",
        "                        validation_pred.extend(\n",
        "                            [y_pred_np[s] for s in range(y_pred_np.shape[0])]\n",
        "                        )\n",
        "                        y_true_np = y_true.detach().cpu().numpy()\n",
        "                        validation_true.extend(\n",
        "                            [y_true_np[s] for s in range(y_true_np.shape[0])]\n",
        "                        )\n",
        "                        \n",
        "                    if phase == \"train\":\n",
        "                        loss_train.append(loss.item())\n",
        "                        loss.backward()\n",
        "                        optimizer.step()\n",
        "    \n",
        "            if phase == \"train\":\n",
        "                log_loss_summary(loss_train, epoch)\n",
        "                loss_train = []\n",
        "\n",
        "            if phase == \"valid\":\n",
        "                log_loss_summary(loss_valid, epoch, prefix=\"val_\")\n",
        "                mean_dsc = np.mean(\n",
        "                    dsc_per_volume(\n",
        "                        validation_pred,\n",
        "                        validation_true,\n",
        "                        loader_valid.dataset.patient_slice_index,\n",
        "                    )\n",
        "                )\n",
        "                log_scalar_summary(\"val_dsc\", mean_dsc, epoch)\n",
        "                if mean_dsc > best_validation_dsc:\n",
        "                    best_validation_dsc = mean_dsc\n",
        "                    torch.save(unet.state_dict(), os.path.join(path, \"unet.pt\")) # weights\n",
        "                loss_valid = []\n",
        "    \n",
        "    print(\"\\nBest validation mean DSC: {:4f}\\n\".format(best_validation_dsc))\n",
        "    \n",
        "    state_dict = torch.load(os.path.join(path, \"unet.pt\")) #weights\n",
        "    unet.load_state_dict(state_dict)\n",
        "\n",
        "    unet.eval()\n",
        "    \n",
        "    input_list = []\n",
        "    pred_list = []\n",
        "    true_list = []\n",
        "    \n",
        "    for i, data in enumerate(tqdm(loader_valid)):\n",
        "        x, y_true = data\n",
        "        x, y_true = x.to(device), y_true.to(device)\n",
        "        with torch.set_grad_enabled(False):\n",
        "            y_pred = unet(x)\n",
        "            y_pred_np = y_pred.detach().cpu().numpy()\n",
        "            pred_list.extend([y_pred_np[s] for s in range(y_pred_np.shape[0])])\n",
        "            y_true_np = y_true.detach().cpu().numpy()\n",
        "            true_list.extend([y_true_np[s] for s in range(y_true_np.shape[0])])\n",
        "            x_np = x.detach().cpu().numpy()\n",
        "            input_list.extend([x_np[s] for s in range(x_np.shape[0])])\n",
        "            \n",
        "    volumes = postprocess_per_volume(\n",
        "        input_list,\n",
        "        pred_list,\n",
        "        true_list,\n",
        "        loader_valid.dataset.patient_slice_index,\n",
        "        loader_valid.dataset.patients,\n",
        "    )\n",
        "    \n",
        "    dsc_dist = dsc_distribution(volumes)\n",
        "\n",
        "    dsc_dist_plot = plot_dsc(dsc_dist)\n",
        "    imsave(path+\"dsc.png\", dsc_dist_plot)\n",
        "\n",
        "    for p in tqdm(volumes):\n",
        "        x = volumes[p][0]\n",
        "        y_pred = volumes[p][1]\n",
        "        y_true = volumes[p][2]\n",
        "        for s in range(x.shape[0]):\n",
        "            image = gray2rgb(x[s, 1])  # channel 1 is for FLAIR\n",
        "            image = outline(image, y_pred[s, 0], color=[255, 0, 0])\n",
        "            image = outline(image, y_true[s, 0], color=[0, 255, 0])\n",
        "            filename = \"{}-{}.png\".format(p, str(s).zfill(2))\n",
        "            filepath = os.path.join(path, filename)\n",
        "            imsave(filepath, image)\n",
        "\n",
        "\n",
        "train_validate()"
      ],
      "execution_count": 10,
      "outputs": [
        {
          "output_type": "stream",
          "name": "stdout",
          "text": [
            "reading train images...\n",
            "preprocessing train volumes...\n",
            "cropping train volumes...\n",
            "padding train volumes...\n",
            "resizing train volumes...\n",
            "normalizing train volumes...\n",
            "done creating train dataset\n",
            "reading validation images...\n",
            "preprocessing validation volumes...\n",
            "cropping validation volumes...\n",
            "padding validation volumes...\n",
            "resizing validation volumes...\n",
            "normalizing validation volumes...\n",
            "done creating validation dataset\n"
          ]
        },
        {
          "output_type": "stream",
          "name": "stderr",
          "text": [
            "\r  0%|          | 0/417 [00:00<?, ?it/s]/usr/local/lib/python3.7/dist-packages/torch/nn/functional.py:718: UserWarning: Named tensors and all their associated APIs are an experimental feature and subject to change. Please do not use them for anything important until they are released as stable. (Triggered internally at  /pytorch/c10/core/TensorImpl.h:1156.)\n",
            "  return torch.max_pool2d(input, kernel_size, stride, padding, dilation, ceil_mode)\n",
            "100%|██████████| 417/417 [00:59<00:00,  7.06it/s]\n"
          ]
        },
        {
          "output_type": "stream",
          "name": "stdout",
          "text": [
            "epoch 1 | loss: 0.7994671299589052\n"
          ]
        },
        {
          "output_type": "stream",
          "name": "stderr",
          "text": [
            "100%|██████████| 42/42 [00:01<00:00, 26.89it/s]\n"
          ]
        },
        {
          "output_type": "stream",
          "name": "stdout",
          "text": [
            "epoch 1 | val_loss: 0.901203012182599\n",
            "epoch 1 | val_dsc: 0.5615637026688332\n"
          ]
        },
        {
          "output_type": "stream",
          "name": "stderr",
          "text": [
            "100%|██████████| 417/417 [00:58<00:00,  7.08it/s]\n"
          ]
        },
        {
          "output_type": "stream",
          "name": "stdout",
          "text": [
            "epoch 2 | loss: 0.6848886155967804\n"
          ]
        },
        {
          "output_type": "stream",
          "name": "stderr",
          "text": [
            "100%|██████████| 42/42 [00:01<00:00, 26.33it/s]\n"
          ]
        },
        {
          "output_type": "stream",
          "name": "stdout",
          "text": [
            "epoch 2 | val_loss: 0.849678343250638\n",
            "epoch 2 | val_dsc: 0.6773145354554524\n"
          ]
        },
        {
          "output_type": "stream",
          "name": "stderr",
          "text": [
            "100%|██████████| 417/417 [00:59<00:00,  6.99it/s]\n"
          ]
        },
        {
          "output_type": "stream",
          "name": "stdout",
          "text": [
            "epoch 3 | loss: 0.5249913817972874\n"
          ]
        },
        {
          "output_type": "stream",
          "name": "stderr",
          "text": [
            "100%|██████████| 42/42 [00:01<00:00, 26.32it/s]\n"
          ]
        },
        {
          "output_type": "stream",
          "name": "stdout",
          "text": [
            "epoch 3 | val_loss: 0.774042648928506\n",
            "epoch 3 | val_dsc: 0.7218026498021943\n"
          ]
        },
        {
          "output_type": "stream",
          "name": "stderr",
          "text": [
            "100%|██████████| 417/417 [00:59<00:00,  7.03it/s]\n"
          ]
        },
        {
          "output_type": "stream",
          "name": "stdout",
          "text": [
            "epoch 4 | loss: 0.35825741376808223\n"
          ]
        },
        {
          "output_type": "stream",
          "name": "stderr",
          "text": [
            "100%|██████████| 42/42 [00:01<00:00, 26.50it/s]\n"
          ]
        },
        {
          "output_type": "stream",
          "name": "stdout",
          "text": [
            "epoch 4 | val_loss: 0.6938274460179465\n",
            "epoch 4 | val_dsc: 0.8141878983035525\n"
          ]
        },
        {
          "output_type": "stream",
          "name": "stderr",
          "text": [
            "100%|██████████| 417/417 [00:58<00:00,  7.09it/s]\n"
          ]
        },
        {
          "output_type": "stream",
          "name": "stdout",
          "text": [
            "epoch 5 | loss: 0.2502344625173427\n"
          ]
        },
        {
          "output_type": "stream",
          "name": "stderr",
          "text": [
            "100%|██████████| 42/42 [00:01<00:00, 26.16it/s]\n"
          ]
        },
        {
          "output_type": "stream",
          "name": "stdout",
          "text": [
            "epoch 5 | val_loss: 0.6318787506648472\n",
            "epoch 5 | val_dsc: 0.8279199231617543\n"
          ]
        },
        {
          "output_type": "stream",
          "name": "stderr",
          "text": [
            "100%|██████████| 417/417 [01:00<00:00,  6.93it/s]\n"
          ]
        },
        {
          "output_type": "stream",
          "name": "stdout",
          "text": [
            "epoch 6 | loss: 0.1836661330515818\n"
          ]
        },
        {
          "output_type": "stream",
          "name": "stderr",
          "text": [
            "100%|██████████| 42/42 [00:01<00:00, 26.03it/s]\n"
          ]
        },
        {
          "output_type": "stream",
          "name": "stdout",
          "text": [
            "epoch 6 | val_loss: 0.6025288899739584\n",
            "epoch 6 | val_dsc: 0.8217271540920648\n"
          ]
        },
        {
          "output_type": "stream",
          "name": "stderr",
          "text": [
            "100%|██████████| 417/417 [00:59<00:00,  7.01it/s]\n"
          ]
        },
        {
          "output_type": "stream",
          "name": "stdout",
          "text": [
            "epoch 7 | loss: 0.149163995715354\n"
          ]
        },
        {
          "output_type": "stream",
          "name": "stderr",
          "text": [
            "100%|██████████| 42/42 [00:01<00:00, 26.00it/s]\n"
          ]
        },
        {
          "output_type": "stream",
          "name": "stdout",
          "text": [
            "epoch 7 | val_loss: 0.5720374385515848\n",
            "epoch 7 | val_dsc: 0.8119399756131245\n"
          ]
        },
        {
          "output_type": "stream",
          "name": "stderr",
          "text": [
            "100%|██████████| 417/417 [01:00<00:00,  6.93it/s]\n"
          ]
        },
        {
          "output_type": "stream",
          "name": "stdout",
          "text": [
            "epoch 8 | loss: 0.1290335532286756\n"
          ]
        },
        {
          "output_type": "stream",
          "name": "stderr",
          "text": [
            "100%|██████████| 42/42 [00:01<00:00, 25.92it/s]\n"
          ]
        },
        {
          "output_type": "stream",
          "name": "stdout",
          "text": [
            "epoch 8 | val_loss: 0.5423938702969324\n",
            "epoch 8 | val_dsc: 0.8057305424907929\n"
          ]
        },
        {
          "output_type": "stream",
          "name": "stderr",
          "text": [
            "100%|██████████| 417/417 [01:00<00:00,  6.91it/s]\n"
          ]
        },
        {
          "output_type": "stream",
          "name": "stdout",
          "text": [
            "epoch 9 | loss: 0.11832471459889583\n"
          ]
        },
        {
          "output_type": "stream",
          "name": "stderr",
          "text": [
            "100%|██████████| 42/42 [00:01<00:00, 26.22it/s]\n"
          ]
        },
        {
          "output_type": "stream",
          "name": "stdout",
          "text": [
            "epoch 9 | val_loss: 0.5380117141065144\n",
            "epoch 9 | val_dsc: 0.8461388375369918\n"
          ]
        },
        {
          "output_type": "stream",
          "name": "stderr",
          "text": [
            "100%|██████████| 417/417 [01:00<00:00,  6.88it/s]\n"
          ]
        },
        {
          "output_type": "stream",
          "name": "stdout",
          "text": [
            "epoch 10 | loss: 0.10416701614713783\n"
          ]
        },
        {
          "output_type": "stream",
          "name": "stderr",
          "text": [
            "100%|██████████| 42/42 [00:01<00:00, 25.93it/s]\n"
          ]
        },
        {
          "output_type": "stream",
          "name": "stdout",
          "text": [
            "epoch 10 | val_loss: 0.5181082841895875\n",
            "epoch 10 | val_dsc: 0.8399659998085595\n"
          ]
        },
        {
          "output_type": "stream",
          "name": "stderr",
          "text": [
            "100%|██████████| 417/417 [00:59<00:00,  7.04it/s]\n"
          ]
        },
        {
          "output_type": "stream",
          "name": "stdout",
          "text": [
            "epoch 11 | loss: 0.09582476621623234\n"
          ]
        },
        {
          "output_type": "stream",
          "name": "stderr",
          "text": [
            "100%|██████████| 42/42 [00:01<00:00, 26.22it/s]\n"
          ]
        },
        {
          "output_type": "stream",
          "name": "stdout",
          "text": [
            "epoch 11 | val_loss: 0.5009831346216655\n",
            "epoch 11 | val_dsc: 0.8376319528812118\n"
          ]
        },
        {
          "output_type": "stream",
          "name": "stderr",
          "text": [
            "100%|██████████| 417/417 [00:59<00:00,  7.02it/s]\n"
          ]
        },
        {
          "output_type": "stream",
          "name": "stdout",
          "text": [
            "epoch 12 | loss: 0.08756744075450394\n"
          ]
        },
        {
          "output_type": "stream",
          "name": "stderr",
          "text": [
            "100%|██████████| 42/42 [00:01<00:00, 26.32it/s]\n"
          ]
        },
        {
          "output_type": "stream",
          "name": "stdout",
          "text": [
            "epoch 12 | val_loss: 0.4943115881511143\n",
            "epoch 12 | val_dsc: 0.8799909983737901\n"
          ]
        },
        {
          "output_type": "stream",
          "name": "stderr",
          "text": [
            "100%|██████████| 417/417 [01:00<00:00,  6.88it/s]\n"
          ]
        },
        {
          "output_type": "stream",
          "name": "stdout",
          "text": [
            "epoch 13 | loss: 0.08457278476344596\n"
          ]
        },
        {
          "output_type": "stream",
          "name": "stderr",
          "text": [
            "100%|██████████| 42/42 [00:01<00:00, 26.42it/s]\n"
          ]
        },
        {
          "output_type": "stream",
          "name": "stdout",
          "text": [
            "epoch 13 | val_loss: 0.5050659804117112\n",
            "epoch 13 | val_dsc: 0.8536541853517013\n"
          ]
        },
        {
          "output_type": "stream",
          "name": "stderr",
          "text": [
            "100%|██████████| 417/417 [01:00<00:00,  6.95it/s]\n"
          ]
        },
        {
          "output_type": "stream",
          "name": "stdout",
          "text": [
            "epoch 14 | loss: 0.0797560783884794\n"
          ]
        },
        {
          "output_type": "stream",
          "name": "stderr",
          "text": [
            "100%|██████████| 42/42 [00:01<00:00, 25.73it/s]\n"
          ]
        },
        {
          "output_type": "stream",
          "name": "stdout",
          "text": [
            "epoch 14 | val_loss: 0.48279606870242525\n",
            "epoch 14 | val_dsc: 0.8717870867719293\n"
          ]
        },
        {
          "output_type": "stream",
          "name": "stderr",
          "text": [
            "100%|██████████| 417/417 [01:00<00:00,  6.84it/s]\n"
          ]
        },
        {
          "output_type": "stream",
          "name": "stdout",
          "text": [
            "epoch 15 | loss: 0.07739180112056596\n"
          ]
        },
        {
          "output_type": "stream",
          "name": "stderr",
          "text": [
            "100%|██████████| 42/42 [00:01<00:00, 25.77it/s]\n"
          ]
        },
        {
          "output_type": "stream",
          "name": "stdout",
          "text": [
            "epoch 15 | val_loss: 0.48995147006852285\n",
            "epoch 15 | val_dsc: 0.8564500143200219\n"
          ]
        },
        {
          "output_type": "stream",
          "name": "stderr",
          "text": [
            "100%|██████████| 417/417 [01:00<00:00,  6.88it/s]\n"
          ]
        },
        {
          "output_type": "stream",
          "name": "stdout",
          "text": [
            "epoch 16 | loss: 0.07456000017033493\n"
          ]
        },
        {
          "output_type": "stream",
          "name": "stderr",
          "text": [
            "100%|██████████| 42/42 [00:01<00:00, 26.30it/s]\n"
          ]
        },
        {
          "output_type": "stream",
          "name": "stdout",
          "text": [
            "epoch 16 | val_loss: 0.4871381776673453\n",
            "epoch 16 | val_dsc: 0.8683727283433942\n"
          ]
        },
        {
          "output_type": "stream",
          "name": "stderr",
          "text": [
            "100%|██████████| 417/417 [00:59<00:00,  7.00it/s]\n"
          ]
        },
        {
          "output_type": "stream",
          "name": "stdout",
          "text": [
            "epoch 17 | loss: 0.07136148171459171\n"
          ]
        },
        {
          "output_type": "stream",
          "name": "stderr",
          "text": [
            "100%|██████████| 42/42 [00:01<00:00, 25.62it/s]\n"
          ]
        },
        {
          "output_type": "stream",
          "name": "stdout",
          "text": [
            "epoch 17 | val_loss: 0.48783022449130103\n",
            "epoch 17 | val_dsc: 0.8618613373858794\n"
          ]
        },
        {
          "output_type": "stream",
          "name": "stderr",
          "text": [
            "100%|██████████| 417/417 [01:00<00:00,  6.93it/s]\n"
          ]
        },
        {
          "output_type": "stream",
          "name": "stdout",
          "text": [
            "epoch 18 | loss: 0.07148029363984398\n"
          ]
        },
        {
          "output_type": "stream",
          "name": "stderr",
          "text": [
            "100%|██████████| 42/42 [00:01<00:00, 26.13it/s]\n"
          ]
        },
        {
          "output_type": "stream",
          "name": "stdout",
          "text": [
            "epoch 18 | val_loss: 0.47556430669057936\n",
            "epoch 18 | val_dsc: 0.8157230335014516\n"
          ]
        },
        {
          "output_type": "stream",
          "name": "stderr",
          "text": [
            "100%|██████████| 417/417 [00:59<00:00,  7.03it/s]\n"
          ]
        },
        {
          "output_type": "stream",
          "name": "stdout",
          "text": [
            "epoch 19 | loss: 0.07664767886809022\n"
          ]
        },
        {
          "output_type": "stream",
          "name": "stderr",
          "text": [
            "100%|██████████| 42/42 [00:01<00:00, 26.08it/s]\n"
          ]
        },
        {
          "output_type": "stream",
          "name": "stdout",
          "text": [
            "epoch 19 | val_loss: 0.49595247989609126\n",
            "epoch 19 | val_dsc: 0.8720430065635358\n"
          ]
        },
        {
          "output_type": "stream",
          "name": "stderr",
          "text": [
            "100%|██████████| 417/417 [00:59<00:00,  7.02it/s]\n"
          ]
        },
        {
          "output_type": "stream",
          "name": "stdout",
          "text": [
            "epoch 20 | loss: 0.06755209283577167\n"
          ]
        },
        {
          "output_type": "stream",
          "name": "stderr",
          "text": [
            "100%|██████████| 42/42 [00:01<00:00, 26.35it/s]\n"
          ]
        },
        {
          "output_type": "stream",
          "name": "stdout",
          "text": [
            "epoch 20 | val_loss: 0.46230630647568477\n",
            "epoch 20 | val_dsc: 0.864114387924071\n"
          ]
        },
        {
          "output_type": "stream",
          "name": "stderr",
          "text": [
            "100%|██████████| 417/417 [00:59<00:00,  6.95it/s]\n"
          ]
        },
        {
          "output_type": "stream",
          "name": "stdout",
          "text": [
            "epoch 21 | loss: 0.06396767146867528\n"
          ]
        },
        {
          "output_type": "stream",
          "name": "stderr",
          "text": [
            "100%|██████████| 42/42 [00:01<00:00, 26.01it/s]\n"
          ]
        },
        {
          "output_type": "stream",
          "name": "stdout",
          "text": [
            "epoch 21 | val_loss: 0.4551783317611331\n",
            "epoch 21 | val_dsc: 0.8521822575929707\n"
          ]
        },
        {
          "output_type": "stream",
          "name": "stderr",
          "text": [
            "100%|██████████| 417/417 [00:59<00:00,  6.98it/s]\n"
          ]
        },
        {
          "output_type": "stream",
          "name": "stdout",
          "text": [
            "epoch 22 | loss: 0.06352840782069474\n"
          ]
        },
        {
          "output_type": "stream",
          "name": "stderr",
          "text": [
            "100%|██████████| 42/42 [00:01<00:00, 25.97it/s]\n"
          ]
        },
        {
          "output_type": "stream",
          "name": "stdout",
          "text": [
            "epoch 22 | val_loss: 0.47390810932431904\n",
            "epoch 22 | val_dsc: 0.8058455486912978\n"
          ]
        },
        {
          "output_type": "stream",
          "name": "stderr",
          "text": [
            "100%|██████████| 417/417 [00:58<00:00,  7.09it/s]\n"
          ]
        },
        {
          "output_type": "stream",
          "name": "stdout",
          "text": [
            "epoch 23 | loss: 0.06536333752478912\n"
          ]
        },
        {
          "output_type": "stream",
          "name": "stderr",
          "text": [
            "100%|██████████| 42/42 [00:01<00:00, 25.67it/s]\n"
          ]
        },
        {
          "output_type": "stream",
          "name": "stdout",
          "text": [
            "epoch 23 | val_loss: 0.45078025403476896\n",
            "epoch 23 | val_dsc: 0.8661345827152138\n"
          ]
        },
        {
          "output_type": "stream",
          "name": "stderr",
          "text": [
            "100%|██████████| 417/417 [00:59<00:00,  7.00it/s]\n"
          ]
        },
        {
          "output_type": "stream",
          "name": "stdout",
          "text": [
            "epoch 24 | loss: 0.06104471600598854\n"
          ]
        },
        {
          "output_type": "stream",
          "name": "stderr",
          "text": [
            "100%|██████████| 42/42 [00:01<00:00, 26.19it/s]\n"
          ]
        },
        {
          "output_type": "stream",
          "name": "stdout",
          "text": [
            "epoch 24 | val_loss: 0.45300568143526715\n",
            "epoch 24 | val_dsc: 0.8623563130536998\n"
          ]
        },
        {
          "output_type": "stream",
          "name": "stderr",
          "text": [
            "100%|██████████| 417/417 [00:59<00:00,  6.99it/s]\n"
          ]
        },
        {
          "output_type": "stream",
          "name": "stdout",
          "text": [
            "epoch 25 | loss: 0.06059642732858086\n"
          ]
        },
        {
          "output_type": "stream",
          "name": "stderr",
          "text": [
            "100%|██████████| 42/42 [00:01<00:00, 26.09it/s]\n"
          ]
        },
        {
          "output_type": "stream",
          "name": "stdout",
          "text": [
            "epoch 25 | val_loss: 0.4566378181888944\n",
            "epoch 25 | val_dsc: 0.8769295659439544\n"
          ]
        },
        {
          "output_type": "stream",
          "name": "stderr",
          "text": [
            "100%|██████████| 417/417 [01:00<00:00,  6.90it/s]\n"
          ]
        },
        {
          "output_type": "stream",
          "name": "stdout",
          "text": [
            "epoch 26 | loss: 0.06553347848302168\n"
          ]
        },
        {
          "output_type": "stream",
          "name": "stderr",
          "text": [
            "100%|██████████| 42/42 [00:01<00:00, 26.00it/s]\n"
          ]
        },
        {
          "output_type": "stream",
          "name": "stdout",
          "text": [
            "epoch 26 | val_loss: 0.47316642034621464\n",
            "epoch 26 | val_dsc: 0.8586435909214959\n"
          ]
        },
        {
          "output_type": "stream",
          "name": "stderr",
          "text": [
            "100%|██████████| 417/417 [00:59<00:00,  6.97it/s]\n"
          ]
        },
        {
          "output_type": "stream",
          "name": "stdout",
          "text": [
            "epoch 27 | loss: 0.06215060772083932\n"
          ]
        },
        {
          "output_type": "stream",
          "name": "stderr",
          "text": [
            "100%|██████████| 42/42 [00:01<00:00, 25.84it/s]\n"
          ]
        },
        {
          "output_type": "stream",
          "name": "stdout",
          "text": [
            "epoch 27 | val_loss: 0.43450825271152316\n",
            "epoch 27 | val_dsc: 0.8634895568915504\n"
          ]
        },
        {
          "output_type": "stream",
          "name": "stderr",
          "text": [
            "100%|██████████| 417/417 [00:59<00:00,  7.00it/s]\n"
          ]
        },
        {
          "output_type": "stream",
          "name": "stdout",
          "text": [
            "epoch 28 | loss: 0.05830986751355142\n"
          ]
        },
        {
          "output_type": "stream",
          "name": "stderr",
          "text": [
            "100%|██████████| 42/42 [00:01<00:00, 26.11it/s]\n"
          ]
        },
        {
          "output_type": "stream",
          "name": "stdout",
          "text": [
            "epoch 28 | val_loss: 0.4839624563852946\n",
            "epoch 28 | val_dsc: 0.8521841768793774\n"
          ]
        },
        {
          "output_type": "stream",
          "name": "stderr",
          "text": [
            "100%|██████████| 417/417 [00:59<00:00,  7.03it/s]\n"
          ]
        },
        {
          "output_type": "stream",
          "name": "stdout",
          "text": [
            "epoch 29 | loss: 0.05793871296395501\n"
          ]
        },
        {
          "output_type": "stream",
          "name": "stderr",
          "text": [
            "100%|██████████| 42/42 [00:01<00:00, 25.85it/s]\n"
          ]
        },
        {
          "output_type": "stream",
          "name": "stdout",
          "text": [
            "epoch 29 | val_loss: 0.44564720562526156\n",
            "epoch 29 | val_dsc: 0.8604168952836163\n"
          ]
        },
        {
          "output_type": "stream",
          "name": "stderr",
          "text": [
            "100%|██████████| 417/417 [01:00<00:00,  6.94it/s]\n"
          ]
        },
        {
          "output_type": "stream",
          "name": "stdout",
          "text": [
            "epoch 30 | loss: 0.05535816531673038\n"
          ]
        },
        {
          "output_type": "stream",
          "name": "stderr",
          "text": [
            "100%|██████████| 42/42 [00:01<00:00, 25.90it/s]\n"
          ]
        },
        {
          "output_type": "stream",
          "name": "stdout",
          "text": [
            "epoch 30 | val_loss: 0.42205672888528734\n",
            "epoch 30 | val_dsc: 0.8464555773951018\n"
          ]
        },
        {
          "output_type": "stream",
          "name": "stderr",
          "text": [
            "100%|██████████| 417/417 [00:59<00:00,  6.98it/s]\n"
          ]
        },
        {
          "output_type": "stream",
          "name": "stdout",
          "text": [
            "epoch 31 | loss: 0.05394656566693057\n"
          ]
        },
        {
          "output_type": "stream",
          "name": "stderr",
          "text": [
            "100%|██████████| 42/42 [00:01<00:00, 25.92it/s]\n"
          ]
        },
        {
          "output_type": "stream",
          "name": "stdout",
          "text": [
            "epoch 31 | val_loss: 0.4004258045128414\n",
            "epoch 31 | val_dsc: 0.8601783613008156\n"
          ]
        },
        {
          "output_type": "stream",
          "name": "stderr",
          "text": [
            "100%|██████████| 417/417 [00:59<00:00,  7.02it/s]\n"
          ]
        },
        {
          "output_type": "stream",
          "name": "stdout",
          "text": [
            "epoch 32 | loss: 0.0532039135194225\n"
          ]
        },
        {
          "output_type": "stream",
          "name": "stderr",
          "text": [
            "100%|██████████| 42/42 [00:01<00:00, 25.91it/s]\n"
          ]
        },
        {
          "output_type": "stream",
          "name": "stdout",
          "text": [
            "epoch 32 | val_loss: 0.3994569707484472\n",
            "epoch 32 | val_dsc: 0.8680857930245299\n"
          ]
        },
        {
          "output_type": "stream",
          "name": "stderr",
          "text": [
            "100%|██████████| 417/417 [00:59<00:00,  6.96it/s]\n"
          ]
        },
        {
          "output_type": "stream",
          "name": "stdout",
          "text": [
            "epoch 33 | loss: 0.05308035995176942\n"
          ]
        },
        {
          "output_type": "stream",
          "name": "stderr",
          "text": [
            "100%|██████████| 42/42 [00:01<00:00, 25.73it/s]\n"
          ]
        },
        {
          "output_type": "stream",
          "name": "stdout",
          "text": [
            "epoch 33 | val_loss: 0.3962620723815191\n",
            "epoch 33 | val_dsc: 0.865912471841513\n"
          ]
        },
        {
          "output_type": "stream",
          "name": "stderr",
          "text": [
            "100%|██████████| 417/417 [01:00<00:00,  6.91it/s]\n"
          ]
        },
        {
          "output_type": "stream",
          "name": "stdout",
          "text": [
            "epoch 34 | loss: 0.052915546676809554\n"
          ]
        },
        {
          "output_type": "stream",
          "name": "stderr",
          "text": [
            "100%|██████████| 42/42 [00:01<00:00, 25.63it/s]\n"
          ]
        },
        {
          "output_type": "stream",
          "name": "stdout",
          "text": [
            "epoch 34 | val_loss: 0.3843994012900761\n",
            "epoch 34 | val_dsc: 0.857994672606808\n"
          ]
        },
        {
          "output_type": "stream",
          "name": "stderr",
          "text": [
            "100%|██████████| 417/417 [01:00<00:00,  6.94it/s]\n"
          ]
        },
        {
          "output_type": "stream",
          "name": "stdout",
          "text": [
            "epoch 35 | loss: 0.05245943020859496\n"
          ]
        },
        {
          "output_type": "stream",
          "name": "stderr",
          "text": [
            "100%|██████████| 42/42 [00:01<00:00, 25.88it/s]\n"
          ]
        },
        {
          "output_type": "stream",
          "name": "stdout",
          "text": [
            "epoch 35 | val_loss: 0.3923610165005639\n",
            "epoch 35 | val_dsc: 0.8580099567873413\n"
          ]
        },
        {
          "output_type": "stream",
          "name": "stderr",
          "text": [
            "100%|██████████| 417/417 [00:59<00:00,  6.97it/s]\n"
          ]
        },
        {
          "output_type": "stream",
          "name": "stdout",
          "text": [
            "epoch 36 | loss: 0.05348948909224366\n"
          ]
        },
        {
          "output_type": "stream",
          "name": "stderr",
          "text": [
            "100%|██████████| 42/42 [00:01<00:00, 25.86it/s]\n"
          ]
        },
        {
          "output_type": "stream",
          "name": "stdout",
          "text": [
            "epoch 36 | val_loss: 0.38023429825192406\n",
            "epoch 36 | val_dsc: 0.869919096417149\n"
          ]
        },
        {
          "output_type": "stream",
          "name": "stderr",
          "text": [
            "100%|██████████| 417/417 [00:59<00:00,  7.02it/s]\n"
          ]
        },
        {
          "output_type": "stream",
          "name": "stdout",
          "text": [
            "epoch 37 | loss: 0.050725410310484526\n"
          ]
        },
        {
          "output_type": "stream",
          "name": "stderr",
          "text": [
            "100%|██████████| 42/42 [00:01<00:00, 25.70it/s]\n"
          ]
        },
        {
          "output_type": "stream",
          "name": "stdout",
          "text": [
            "epoch 37 | val_loss: 0.3706411832854861\n",
            "epoch 37 | val_dsc: 0.856731076783942\n"
          ]
        },
        {
          "output_type": "stream",
          "name": "stderr",
          "text": [
            "100%|██████████| 417/417 [00:59<00:00,  6.96it/s]\n"
          ]
        },
        {
          "output_type": "stream",
          "name": "stdout",
          "text": [
            "epoch 38 | loss: 0.054395128068306466\n"
          ]
        },
        {
          "output_type": "stream",
          "name": "stderr",
          "text": [
            "100%|██████████| 42/42 [00:01<00:00, 26.23it/s]\n"
          ]
        },
        {
          "output_type": "stream",
          "name": "stdout",
          "text": [
            "epoch 38 | val_loss: 0.36348906868980047\n",
            "epoch 38 | val_dsc: 0.85870613233941\n"
          ]
        },
        {
          "output_type": "stream",
          "name": "stderr",
          "text": [
            "100%|██████████| 417/417 [01:00<00:00,  6.92it/s]\n"
          ]
        },
        {
          "output_type": "stream",
          "name": "stdout",
          "text": [
            "epoch 39 | loss: 0.04834071695089912\n"
          ]
        },
        {
          "output_type": "stream",
          "name": "stderr",
          "text": [
            "100%|██████████| 42/42 [00:01<00:00, 26.03it/s]\n"
          ]
        },
        {
          "output_type": "stream",
          "name": "stdout",
          "text": [
            "epoch 39 | val_loss: 0.3714768106029147\n",
            "epoch 39 | val_dsc: 0.8525562593541942\n"
          ]
        },
        {
          "output_type": "stream",
          "name": "stderr",
          "text": [
            "100%|██████████| 417/417 [01:00<00:00,  6.91it/s]\n"
          ]
        },
        {
          "output_type": "stream",
          "name": "stdout",
          "text": [
            "epoch 40 | loss: 0.048126546884898085\n"
          ]
        },
        {
          "output_type": "stream",
          "name": "stderr",
          "text": [
            "100%|██████████| 42/42 [00:01<00:00, 26.10it/s]\n"
          ]
        },
        {
          "output_type": "stream",
          "name": "stdout",
          "text": [
            "epoch 40 | val_loss: 0.3305332362651825\n",
            "epoch 40 | val_dsc: 0.85389008018195\n"
          ]
        },
        {
          "output_type": "stream",
          "name": "stderr",
          "text": [
            "100%|██████████| 417/417 [01:00<00:00,  6.94it/s]\n"
          ]
        },
        {
          "output_type": "stream",
          "name": "stdout",
          "text": [
            "epoch 41 | loss: 0.04716807060676227\n"
          ]
        },
        {
          "output_type": "stream",
          "name": "stderr",
          "text": [
            "100%|██████████| 42/42 [00:01<00:00, 25.77it/s]\n"
          ]
        },
        {
          "output_type": "stream",
          "name": "stdout",
          "text": [
            "epoch 41 | val_loss: 0.30478793524560477\n",
            "epoch 41 | val_dsc: 0.882597379597636\n"
          ]
        },
        {
          "output_type": "stream",
          "name": "stderr",
          "text": [
            "100%|██████████| 417/417 [00:59<00:00,  6.98it/s]\n"
          ]
        },
        {
          "output_type": "stream",
          "name": "stdout",
          "text": [
            "epoch 42 | loss: 0.046507076250849294\n"
          ]
        },
        {
          "output_type": "stream",
          "name": "stderr",
          "text": [
            "100%|██████████| 42/42 [00:01<00:00, 25.88it/s]\n"
          ]
        },
        {
          "output_type": "stream",
          "name": "stdout",
          "text": [
            "epoch 42 | val_loss: 0.32880436664535884\n",
            "epoch 42 | val_dsc: 0.8736985858777089\n"
          ]
        },
        {
          "output_type": "stream",
          "name": "stderr",
          "text": [
            "100%|██████████| 417/417 [00:59<00:00,  7.01it/s]\n"
          ]
        },
        {
          "output_type": "stream",
          "name": "stdout",
          "text": [
            "epoch 43 | loss: 0.04685055694991736\n"
          ]
        },
        {
          "output_type": "stream",
          "name": "stderr",
          "text": [
            "100%|██████████| 42/42 [00:01<00:00, 25.85it/s]\n"
          ]
        },
        {
          "output_type": "stream",
          "name": "stdout",
          "text": [
            "epoch 43 | val_loss: 0.29005326117788044\n",
            "epoch 43 | val_dsc: 0.8546254133571045\n"
          ]
        },
        {
          "output_type": "stream",
          "name": "stderr",
          "text": [
            "100%|██████████| 417/417 [00:59<00:00,  6.99it/s]\n"
          ]
        },
        {
          "output_type": "stream",
          "name": "stdout",
          "text": [
            "epoch 44 | loss: 0.047090100155745766\n"
          ]
        },
        {
          "output_type": "stream",
          "name": "stderr",
          "text": [
            "100%|██████████| 42/42 [00:01<00:00, 25.75it/s]\n"
          ]
        },
        {
          "output_type": "stream",
          "name": "stdout",
          "text": [
            "epoch 44 | val_loss: 0.28316764320646015\n",
            "epoch 44 | val_dsc: 0.8741654920330445\n"
          ]
        },
        {
          "output_type": "stream",
          "name": "stderr",
          "text": [
            "100%|██████████| 417/417 [01:00<00:00,  6.95it/s]\n"
          ]
        },
        {
          "output_type": "stream",
          "name": "stdout",
          "text": [
            "epoch 45 | loss: 0.04517196193873454\n"
          ]
        },
        {
          "output_type": "stream",
          "name": "stderr",
          "text": [
            "100%|██████████| 42/42 [00:01<00:00, 25.42it/s]\n"
          ]
        },
        {
          "output_type": "stream",
          "name": "stdout",
          "text": [
            "epoch 45 | val_loss: 0.3258234177316938\n",
            "epoch 45 | val_dsc: 0.857298154758179\n"
          ]
        },
        {
          "output_type": "stream",
          "name": "stderr",
          "text": [
            "100%|██████████| 417/417 [01:00<00:00,  6.92it/s]\n"
          ]
        },
        {
          "output_type": "stream",
          "name": "stdout",
          "text": [
            "epoch 46 | loss: 0.05259524460890882\n"
          ]
        },
        {
          "output_type": "stream",
          "name": "stderr",
          "text": [
            "100%|██████████| 42/42 [00:01<00:00, 25.79it/s]\n"
          ]
        },
        {
          "output_type": "stream",
          "name": "stdout",
          "text": [
            "epoch 46 | val_loss: 0.39661489498047603\n",
            "epoch 46 | val_dsc: 0.8590038785806847\n"
          ]
        },
        {
          "output_type": "stream",
          "name": "stderr",
          "text": [
            "100%|██████████| 417/417 [00:59<00:00,  6.99it/s]\n"
          ]
        },
        {
          "output_type": "stream",
          "name": "stdout",
          "text": [
            "epoch 47 | loss: 0.05105386349222929\n"
          ]
        },
        {
          "output_type": "stream",
          "name": "stderr",
          "text": [
            "100%|██████████| 42/42 [00:01<00:00, 25.68it/s]\n"
          ]
        },
        {
          "output_type": "stream",
          "name": "stdout",
          "text": [
            "epoch 47 | val_loss: 0.35364786216190885\n",
            "epoch 47 | val_dsc: 0.8492110518090896\n"
          ]
        },
        {
          "output_type": "stream",
          "name": "stderr",
          "text": [
            "100%|██████████| 417/417 [01:00<00:00,  6.92it/s]\n"
          ]
        },
        {
          "output_type": "stream",
          "name": "stdout",
          "text": [
            "epoch 48 | loss: 0.043558260519727526\n"
          ]
        },
        {
          "output_type": "stream",
          "name": "stderr",
          "text": [
            "100%|██████████| 42/42 [00:01<00:00, 25.48it/s]\n"
          ]
        },
        {
          "output_type": "stream",
          "name": "stdout",
          "text": [
            "epoch 48 | val_loss: 0.30661016560736154\n",
            "epoch 48 | val_dsc: 0.8525756887748732\n"
          ]
        },
        {
          "output_type": "stream",
          "name": "stderr",
          "text": [
            "100%|██████████| 417/417 [01:00<00:00,  6.89it/s]\n"
          ]
        },
        {
          "output_type": "stream",
          "name": "stdout",
          "text": [
            "epoch 49 | loss: 0.042049959695024744\n"
          ]
        },
        {
          "output_type": "stream",
          "name": "stderr",
          "text": [
            "100%|██████████| 42/42 [00:01<00:00, 25.91it/s]\n"
          ]
        },
        {
          "output_type": "stream",
          "name": "stdout",
          "text": [
            "epoch 49 | val_loss: 0.3126511729898907\n",
            "epoch 49 | val_dsc: 0.8498055875370486\n"
          ]
        },
        {
          "output_type": "stream",
          "name": "stderr",
          "text": [
            "100%|██████████| 417/417 [01:00<00:00,  6.90it/s]\n"
          ]
        },
        {
          "output_type": "stream",
          "name": "stdout",
          "text": [
            "epoch 50 | loss: 0.041711794672538334\n"
          ]
        },
        {
          "output_type": "stream",
          "name": "stderr",
          "text": [
            "100%|██████████| 42/42 [00:01<00:00, 25.92it/s]\n"
          ]
        },
        {
          "output_type": "stream",
          "name": "stdout",
          "text": [
            "epoch 50 | val_loss: 0.28365791127795265\n",
            "epoch 50 | val_dsc: 0.8525298200447624\n",
            "\n",
            "Best validation mean DSC: 0.882597\n",
            "\n"
          ]
        },
        {
          "output_type": "stream",
          "name": "stderr",
          "text": [
            "100%|██████████| 42/42 [00:01<00:00, 25.23it/s]\n",
            "/usr/local/lib/python3.7/dist-packages/ipykernel_launcher.py:113: DeprecationWarning: The binary mode of fromstring is deprecated, as it behaves surprisingly on unicode inputs. Use frombuffer instead\n",
            " 40%|████      | 4/10 [00:06<00:08,  1.48s/it]/usr/local/lib/python3.7/dist-packages/ipykernel_launcher.py:135: UserWarning: /content/drive/MyDrive/Colab Notebooks/Kaggle/Brain_MRI/TCGA_DU_7014_19860618-57.png is a low contrast image\n",
            " 50%|█████     | 5/10 [00:10<00:12,  2.41s/it]/usr/local/lib/python3.7/dist-packages/ipykernel_launcher.py:135: UserWarning: /content/drive/MyDrive/Colab Notebooks/Kaggle/Brain_MRI/TCGA_DU_6408_19860521-51.png is a low contrast image\n",
            "/usr/local/lib/python3.7/dist-packages/ipykernel_launcher.py:135: UserWarning: /content/drive/MyDrive/Colab Notebooks/Kaggle/Brain_MRI/TCGA_DU_6408_19860521-52.png is a low contrast image\n",
            "/usr/local/lib/python3.7/dist-packages/ipykernel_launcher.py:135: UserWarning: /content/drive/MyDrive/Colab Notebooks/Kaggle/Brain_MRI/TCGA_DU_6408_19860521-53.png is a low contrast image\n",
            " 60%|██████    | 6/10 [00:14<00:12,  3.11s/it]/usr/local/lib/python3.7/dist-packages/ipykernel_launcher.py:135: UserWarning: /content/drive/MyDrive/Colab Notebooks/Kaggle/Brain_MRI/TCGA_DU_6404_19850629-50.png is a low contrast image\n",
            " 70%|███████   | 7/10 [00:16<00:08,  2.73s/it]/usr/local/lib/python3.7/dist-packages/ipykernel_launcher.py:135: UserWarning: /content/drive/MyDrive/Colab Notebooks/Kaggle/Brain_MRI/TCGA_DU_5851_19950428-34.png is a low contrast image\n",
            "100%|██████████| 10/10 [00:19<00:00,  1.97s/it]\n"
          ]
        }
      ]
    },
    {
      "cell_type": "code",
      "metadata": {
        "id": "Io9tApk8HCjS"
      },
      "source": [
        ""
      ],
      "execution_count": null,
      "outputs": []
    }
  ]
}